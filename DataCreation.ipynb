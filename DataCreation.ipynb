﻿{
 "cells": [
  {
   "cell_type": "code",
   "id": "initial_id",
   "metadata": {
    "collapsed": true,
    "ExecuteTime": {
     "end_time": "2024-04-18T14:19:58.505282Z",
     "start_time": "2024-04-18T14:19:58.501263Z"
    }
   },
   "source": [
    "import numpy as np\n",
    "import pandas as pd\n",
    "from skimage.draw import rectangle, disk, polygon\n",
    "import random\n",
    "from skimage.measure import regionprops"
   ],
   "outputs": [],
   "execution_count": 27
  },
  {
   "metadata": {
    "ExecuteTime": {
     "end_time": "2024-04-18T14:20:00.804692Z",
     "start_time": "2024-04-18T14:20:00.798841Z"
    }
   },
   "cell_type": "code",
   "source": [
    "length = 33\n",
    "rectangles = []\n",
    "circles = []\n",
    "triangles = []"
   ],
   "id": "64237a6f32bfd64a",
   "outputs": [],
   "execution_count": 28
  },
  {
   "metadata": {
    "ExecuteTime": {
     "end_time": "2024-04-18T14:20:02.409374Z",
     "start_time": "2024-04-18T14:20:02.389434Z"
    }
   },
   "cell_type": "code",
   "source": [
    "for i in range(length):\n",
    "    image_width = random.randint(100, 500)\n",
    "    image_height = random.randint(100, 500)\n",
    "    image_shape = (image_height, image_width)\n",
    "    binary_image = np.zeros(image_shape, dtype=np.uint8)\n",
    "    padding = 2\n",
    "    min_size = 50\n",
    "    x = random.randint(padding, image_width - padding - min_size)\n",
    "    y = random.randint(padding, image_height - padding - min_size)\n",
    "    max_width = image_width - padding - x\n",
    "    max_heigth = image_height - padding - y\n",
    "    rr, cc = rectangle(start=(y, x), extent=(random.randint(min_size, max_heigth), random.randint(min_size, max_width)))\n",
    "    binary_image[rr, cc] = 1\n",
    "    rectangles.append(binary_image)"
   ],
   "id": "4b177306a867a150",
   "outputs": [],
   "execution_count": 29
  },
  {
   "metadata": {
    "ExecuteTime": {
     "end_time": "2024-04-18T14:20:03.617314Z",
     "start_time": "2024-04-18T14:20:03.581362Z"
    }
   },
   "cell_type": "code",
   "source": [
    "for _ in range(length):\n",
    "    image_width = random.randint(100, 500)\n",
    "    image_height = random.randint(100, 500)\n",
    "    image_shape = (image_height, image_width)\n",
    "    binary_image = np.zeros(image_shape, dtype=np.uint8)\n",
    "\n",
    "    # Dibujar un círculo con radio aleatorio entre 10 y la menor dimensión de la imagen / 4\n",
    "    radius = random.randint(10, min(image_shape) // 4)\n",
    "    rr, cc = disk((random.randint(radius, image_shape[0] - radius),\n",
    "                   random.randint(radius, image_shape[1] - radius)), radius)\n",
    "    binary_image[rr, cc] = 1\n",
    "\n",
    "    # Seleccionar las propiedades del círculo\n",
    "    circles.append(binary_image)"
   ],
   "id": "a0cf1fd9325928be",
   "outputs": [],
   "execution_count": 30
  },
  {
   "metadata": {
    "ExecuteTime": {
     "end_time": "2024-04-18T14:20:05.423938Z",
     "start_time": "2024-04-18T14:20:05.329096Z"
    }
   },
   "cell_type": "code",
   "source": [
    "for i in range(length):\n",
    "    image_width = random.randint(100, 500)\n",
    "    image_height = random.randint(100, 500)\n",
    "    image_shape = (image_height, image_width)\n",
    "    # Crear una imagen en negro\n",
    "    binary_image = np.zeros(image_shape, dtype=np.uint8)\n",
    "\n",
    "    # Triángulos con diferentes posiciones y colores\n",
    "    rr_triangle = np.random.randint(0, image_height, 3)\n",
    "    cc_triangle = np.random.randint(0, image_width, 3)\n",
    "    rr, cc = polygon(rr_triangle, cc_triangle)\n",
    "    binary_image[rr, cc] = 1\n",
    "\n",
    "    # Agregar la imagen a la lista\n",
    "    triangles.append(binary_image)"
   ],
   "id": "e75715b584822b6e",
   "outputs": [],
   "execution_count": 31
  },
  {
   "metadata": {
    "ExecuteTime": {
     "end_time": "2024-04-18T14:20:09.277022Z",
     "start_time": "2024-04-18T14:20:08.197162Z"
    }
   },
   "cell_type": "code",
   "source": [
    "areas = []\n",
    "perimeters = []\n",
    "centroids = []\n",
    "boundings = []\n",
    "orientations = []\n",
    "shapes = []\n",
    "convex_area = []\n",
    "convex_image = []\n",
    "coordinates = []\n",
    "eccentricity = []\n",
    "equivalent_diameter = []\n",
    "euler_number = []\n",
    "extent = []\n",
    "filled_area = []\n",
    "filled_image = []\n",
    "major_axis_lenght = []\n",
    "minor_axis_lenght = []\n",
    "solidity = []\n",
    "intensity = []\n",
    "\n",
    "\n",
    "for rectangle in rectangles:\n",
    "    props = regionprops(rectangle, intensity_image=rectangle)\n",
    "\n",
    "    for prop in props:\n",
    "        shapes.append(0)\n",
    "        areas.append(prop.area)\n",
    "        perimeters.append(prop.perimeter)\n",
    "        centroids.append(prop.centroid)\n",
    "        boundings.append(prop.bbox)\n",
    "        orientations.append(prop.orientation)\n",
    "        convex_area.append(prop.area_convex)\n",
    "        convex_image.append(prop.image_convex)\n",
    "        coordinates.append(prop.coords)\n",
    "        eccentricity.append(prop.eccentricity)\n",
    "        equivalent_diameter.append(prop.equivalent_diameter_area)\n",
    "        euler_number.append(prop.euler_number)\n",
    "        extent.append(prop.extent)\n",
    "        filled_area.append(prop.area_filled)\n",
    "        filled_image.append(prop.image_filled)\n",
    "        major_axis_lenght.append(prop.axis_major_length)\n",
    "        minor_axis_lenght.append(prop.axis_minor_length)\n",
    "        solidity.append(prop.solidity)\n",
    "        intensity.append(prop.intensity_mean)\n",
    "\n",
    "\n",
    "for circle in circles:\n",
    "    props = regionprops(circle, intensity_image=circle)\n",
    "\n",
    "    for prop in props:\n",
    "        shapes.append(1)\n",
    "        areas.append(prop.area)\n",
    "        perimeters.append(prop.perimeter)\n",
    "        centroids.append(prop.centroid)\n",
    "        boundings.append(prop.bbox)\n",
    "        orientations.append(prop.orientation)\n",
    "        convex_area.append(prop.area_convex)\n",
    "        convex_image.append(prop.image_convex)\n",
    "        coordinates.append(prop.coords)\n",
    "        eccentricity.append(prop.eccentricity)\n",
    "        equivalent_diameter.append(prop.equivalent_diameter_area)\n",
    "        euler_number.append(prop.euler_number)\n",
    "        extent.append(prop.extent)\n",
    "        filled_area.append(prop.area_filled)\n",
    "        filled_image.append(prop.image_filled)\n",
    "        major_axis_lenght.append(prop.axis_major_length)\n",
    "        minor_axis_lenght.append(prop.axis_minor_length)\n",
    "        solidity.append(prop.solidity)\n",
    "        intensity.append(prop.intensity_mean)\n",
    "\n",
    "\n",
    "for triangle in triangles:\n",
    "    props = regionprops(triangle, intensity_image=triangle)\n",
    "\n",
    "    for prop in props:\n",
    "        shapes.append(2)\n",
    "        areas.append(prop.area)\n",
    "        perimeters.append(prop.perimeter)\n",
    "        centroids.append(prop.centroid)\n",
    "        boundings.append(prop.bbox)\n",
    "        orientations.append(prop.orientation)\n",
    "        convex_area.append(prop.area_convex)\n",
    "        convex_image.append(prop.image_convex)\n",
    "        coordinates.append(prop.coords)\n",
    "        eccentricity.append(prop.eccentricity)\n",
    "        equivalent_diameter.append(prop.equivalent_diameter_area)\n",
    "        euler_number.append(prop.euler_number)\n",
    "        extent.append(prop.extent)\n",
    "        filled_area.append(prop.area_filled)\n",
    "        filled_image.append(prop.image_filled)\n",
    "        major_axis_lenght.append(prop.axis_major_length)\n",
    "        minor_axis_lenght.append(prop.axis_minor_length)\n",
    "        solidity.append(prop.solidity)\n",
    "        intensity.append(prop.intensity_mean)\n",
    "\n",
    "\n",
    "df = pd.DataFrame({\n",
    "    'Shape': shapes,\n",
    "    'Area': areas,\n",
    "    'Perimeter': perimeters,\n",
    "    'Centroid': centroids,\n",
    "    'BoundingBox': boundings,\n",
    "    'Orientation': orientations,\n",
    "    'Conver area': convex_area,\n",
    "    'Convex image': convex_image,\n",
    "    'Coordinates': coordinates,\n",
    "    'Eccentricity': eccentricity,\n",
    "    'Equivalent diameter': equivalent_diameter,\n",
    "    'Euler number': euler_number,\n",
    "    'Extent': extent,\n",
    "    'Filled area': filled_area,\n",
    "    'Filled image': filled_image,\n",
    "    'Major axis lenght': major_axis_lenght,\n",
    "    'Minor axis lenght': minor_axis_lenght,\n",
    "    'Solidity': solidity,\n",
    "    'Intensity': intensity\n",
    "})\n",
    "\n",
    "df.to_csv(\"./data/data.csv\", encoding='utf-8', index=False)"
   ],
   "id": "d79f39e0bc223ff",
   "outputs": [],
   "execution_count": 32
  }
 ],
 "metadata": {
  "kernelspec": {
   "display_name": "Python 3",
   "language": "python",
   "name": "python3"
  },
  "language_info": {
   "codemirror_mode": {
    "name": "ipython",
    "version": 2
   },
   "file_extension": ".py",
   "mimetype": "text/x-python",
   "name": "python",
   "nbconvert_exporter": "python",
   "pygments_lexer": "ipython2",
   "version": "2.7.6"
  }
 },
 "nbformat": 4,
 "nbformat_minor": 5
}
